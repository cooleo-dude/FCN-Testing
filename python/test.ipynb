{
 "cells": [
  {
   "cell_type": "code",
   "execution_count": 7,
   "id": "488e4107-78fc-4410-bc90-a3e5216325d8",
   "metadata": {},
   "outputs": [
    {
     "name": "stdout",
     "output_type": "stream",
     "text": [
      "dict_items([('bob', array([[1, 2, 3, 4, 5],\n",
      "       [6, 7, 8, 9, 0]]))])\n"
     ]
    }
   ],
   "source": [
    "import numpy as np\n",
    "\n",
    "temp ={}\n",
    "name=\"bob\"\n",
    "temp[name] = np.array([[1,2,3,4,5],[6,7,8,9,0]])\n",
    "print(temp.items())"
   ]
  },
  {
   "cell_type": "code",
   "execution_count": 8,
   "id": "052c02d5-5b4f-498f-be92-d3ebf1465ff1",
   "metadata": {},
   "outputs": [
    {
     "name": "stdout",
     "output_type": "stream",
     "text": [
      "1\n"
     ]
    }
   ],
   "source": [
    "name1 = \"bob\"\n",
    "name2= \"hank\"\n",
    "temp = {name1:1,name2:2}\n",
    "\n",
    "print(temp[name1])\n",
    "\n"
   ]
  },
  {
   "cell_type": "code",
   "execution_count": null,
   "id": "1dbd8420-458f-4668-96f7-4b7e5797a6b9",
   "metadata": {},
   "outputs": [],
   "source": []
  }
 ],
 "metadata": {
  "kernelspec": {
   "display_name": "Python 3 (ipykernel)",
   "language": "python",
   "name": "python3"
  },
  "language_info": {
   "codemirror_mode": {
    "name": "ipython",
    "version": 3
   },
   "file_extension": ".py",
   "mimetype": "text/x-python",
   "name": "python",
   "nbconvert_exporter": "python",
   "pygments_lexer": "ipython3",
   "version": "3.10.12"
  }
 },
 "nbformat": 4,
 "nbformat_minor": 5
}
